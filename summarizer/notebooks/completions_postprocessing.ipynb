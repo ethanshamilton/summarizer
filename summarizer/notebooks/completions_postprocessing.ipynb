{
 "cells": [
  {
   "cell_type": "markdown",
   "metadata": {},
   "source": [
    "# Completions Postprocessing\n",
    "After acquiring a dataset of completions from `summarizer.ipynb`, now we will join the data and export it to a CSV. "
   ]
  },
  {
   "cell_type": "code",
   "execution_count": 1,
   "metadata": {},
   "outputs": [],
   "source": [
    "import json\n",
    "import pandas as pd"
   ]
  },
  {
   "cell_type": "code",
   "execution_count": 2,
   "metadata": {},
   "outputs": [],
   "source": [
    "# load the datasets\n",
    "with open('20_EK_articles.json', 'r') as f:\n",
    "    ek_articles = json.load(f)\n",
    "with open('completions.json', 'r') as f:\n",
    "    completions = json.load(f)"
   ]
  },
  {
   "cell_type": "code",
   "execution_count": 3,
   "metadata": {},
   "outputs": [],
   "source": [
    "# load each into dataframes\n",
    "df_a = pd.DataFrame(ek_articles.items(), columns=['url', 'text'])\n",
    "df_c = pd.DataFrame(completions.items(), columns=['index', 'completion'])"
   ]
  },
  {
   "cell_type": "code",
   "execution_count": 4,
   "metadata": {},
   "outputs": [
    {
     "name": "stdout",
     "output_type": "stream",
     "text": [
      "                                                 url  \\\n",
      "0  https://enterprise-knowledge.com/5-steps-to-en...   \n",
      "1  https://enterprise-knowledge.com/applied-knowl...   \n",
      "2  https://enterprise-knowledge.com/breaking-it-d...   \n",
      "3  https://enterprise-knowledge.com/data-catalog-...   \n",
      "4  https://enterprise-knowledge.com/elevating-you...   \n",
      "\n",
      "                                                text  \n",
      "0  \\nAs search engines and portals evolve, users ...  \n",
      "1  \\nWhile Knowledge Management (KM) is critical ...  \n",
      "2  \\nWhen I talk about gamification, I often use ...  \n",
      "3  \\nData Catalogs have risen in adoption and pop...  \n",
      "4  \\nI am fortunate to be able to speak with many...  \n",
      "                                          completion\n",
      "0  {'role': 'assistant', 'content': 'Enterprise o...\n",
      "1  {'role': 'assistant', 'content': 'Large enterp...\n",
      "2  {'role': 'assistant', 'content': 'Gamification...\n",
      "3  {'role': 'assistant', 'content': 'The adoption...\n",
      "4  {'role': 'assistant', 'content': 'To turn a po...\n"
     ]
    }
   ],
   "source": [
    "df_c = df_c.drop('index', axis=1)\n",
    "print(df_a.head())\n",
    "print(df_c.head())"
   ]
  },
  {
   "cell_type": "code",
   "execution_count": 5,
   "metadata": {},
   "outputs": [
    {
     "name": "stdout",
     "output_type": "stream",
     "text": [
      "completion    {'role': 'assistant', 'content': 'The Great Re...\n",
      "Name: 12, dtype: object\n",
      "url     https://enterprise-knowledge.com/the-importanc...\n",
      "text    \\nIntroduction\\nIn Part I we discussed how to ...\n",
      "Name: 12, dtype: object\n"
     ]
    }
   ],
   "source": [
    "# Drop row 11 by index label\n",
    "label_to_drop = df_c.index[11]\n",
    "df_c = df_c.drop(label_to_drop)\n",
    "df_a = df_a.drop(label_to_drop)\n",
    "\n",
    "print(df_c.iloc[11])\n",
    "print(df_a.iloc[11])"
   ]
  },
  {
   "cell_type": "code",
   "execution_count": 2,
   "metadata": {},
   "outputs": [
    {
     "name": "stdout",
     "output_type": "stream",
     "text": [
      "Original DataFrame:\n",
      "                   A\n",
      "0  {'key': 'value1'}\n",
      "1  {'key': 'value2'}\n",
      "2  {'key': 'value3'}\n",
      "\n",
      "DataFrame with extracted values in a new column:\n",
      "                   A       B\n",
      "0  {'key': 'value1'}  value1\n",
      "1  {'key': 'value2'}  value2\n",
      "2  {'key': 'value3'}  value3\n"
     ]
    }
   ],
   "source": [
    "# Create an example DataFrame with a column of dictionaries\n",
    "data = {'A': [{'key': 'value1'}, {'key': 'value2'}, {'key': 'value3'}]}\n",
    "df = pd.DataFrame(data)\n",
    "\n",
    "# Print the original DataFrame\n",
    "print(\"Original DataFrame:\")\n",
    "print(df)\n",
    "\n",
    "# Extract the 'key' value from the dictionaries in column 'A' and create a new column 'B' with the extracted values\n",
    "df['B'] = df['A'].apply(lambda x: x['key'])\n",
    "\n",
    "# Print the DataFrame with the new 'B' column containing the extracted values\n",
    "print(\"\\nDataFrame with extracted values in a new column:\")\n",
    "print(df)"
   ]
  },
  {
   "cell_type": "code",
   "execution_count": 6,
   "metadata": {},
   "outputs": [
    {
     "data": {
      "text/html": [
       "<div>\n",
       "<style scoped>\n",
       "    .dataframe tbody tr th:only-of-type {\n",
       "        vertical-align: middle;\n",
       "    }\n",
       "\n",
       "    .dataframe tbody tr th {\n",
       "        vertical-align: top;\n",
       "    }\n",
       "\n",
       "    .dataframe thead th {\n",
       "        text-align: right;\n",
       "    }\n",
       "</style>\n",
       "<table border=\"1\" class=\"dataframe\">\n",
       "  <thead>\n",
       "    <tr style=\"text-align: right;\">\n",
       "      <th></th>\n",
       "      <th>url</th>\n",
       "      <th>text</th>\n",
       "      <th>completion</th>\n",
       "    </tr>\n",
       "  </thead>\n",
       "  <tbody>\n",
       "    <tr>\n",
       "      <th>0</th>\n",
       "      <td>https://enterprise-knowledge.com/5-steps-to-en...</td>\n",
       "      <td>\\nAs search engines and portals evolve, users ...</td>\n",
       "      <td>Enterprise organizations can enhance their sea...</td>\n",
       "    </tr>\n",
       "    <tr>\n",
       "      <th>1</th>\n",
       "      <td>https://enterprise-knowledge.com/applied-knowl...</td>\n",
       "      <td>\\nWhile Knowledge Management (KM) is critical ...</td>\n",
       "      <td>Large enterprises face common challenges that ...</td>\n",
       "    </tr>\n",
       "    <tr>\n",
       "      <th>2</th>\n",
       "      <td>https://enterprise-knowledge.com/breaking-it-d...</td>\n",
       "      <td>\\nWhen I talk about gamification, I often use ...</td>\n",
       "      <td>Gamification, the art of applying game design ...</td>\n",
       "    </tr>\n",
       "    <tr>\n",
       "      <th>3</th>\n",
       "      <td>https://enterprise-knowledge.com/data-catalog-...</td>\n",
       "      <td>\\nData Catalogs have risen in adoption and pop...</td>\n",
       "      <td>The adoption of data catalogs has increased in...</td>\n",
       "    </tr>\n",
       "    <tr>\n",
       "      <th>4</th>\n",
       "      <td>https://enterprise-knowledge.com/elevating-you...</td>\n",
       "      <td>\\nI am fortunate to be able to speak with many...</td>\n",
       "      <td>To turn a point solution into an enterprise-wi...</td>\n",
       "    </tr>\n",
       "  </tbody>\n",
       "</table>\n",
       "</div>"
      ],
      "text/plain": [
       "                                                 url  \\\n",
       "0  https://enterprise-knowledge.com/5-steps-to-en...   \n",
       "1  https://enterprise-knowledge.com/applied-knowl...   \n",
       "2  https://enterprise-knowledge.com/breaking-it-d...   \n",
       "3  https://enterprise-knowledge.com/data-catalog-...   \n",
       "4  https://enterprise-knowledge.com/elevating-you...   \n",
       "\n",
       "                                                text  \\\n",
       "0  \\nAs search engines and portals evolve, users ...   \n",
       "1  \\nWhile Knowledge Management (KM) is critical ...   \n",
       "2  \\nWhen I talk about gamification, I often use ...   \n",
       "3  \\nData Catalogs have risen in adoption and pop...   \n",
       "4  \\nI am fortunate to be able to speak with many...   \n",
       "\n",
       "                                          completion  \n",
       "0  Enterprise organizations can enhance their sea...  \n",
       "1  Large enterprises face common challenges that ...  \n",
       "2  Gamification, the art of applying game design ...  \n",
       "3  The adoption of data catalogs has increased in...  \n",
       "4  To turn a point solution into an enterprise-wi...  "
      ]
     },
     "execution_count": 6,
     "metadata": {},
     "output_type": "execute_result"
    }
   ],
   "source": [
    "df_a['completion'] = df_c['completion'].apply(lambda x: x['content'])\n",
    "df_a.head()"
   ]
  },
  {
   "cell_type": "code",
   "execution_count": 7,
   "metadata": {},
   "outputs": [],
   "source": [
    "df_a.to_csv('all_data.csv')"
   ]
  }
 ],
 "metadata": {
  "kernelspec": {
   "display_name": "Python 3.9.6 64-bit",
   "language": "python",
   "name": "python3"
  },
  "language_info": {
   "codemirror_mode": {
    "name": "ipython",
    "version": 3
   },
   "file_extension": ".py",
   "mimetype": "text/x-python",
   "name": "python",
   "nbconvert_exporter": "python",
   "pygments_lexer": "ipython3",
   "version": "3.9.6"
  },
  "orig_nbformat": 4,
  "vscode": {
   "interpreter": {
    "hash": "31f2aee4e71d21fbe5cf8b01ff0e069b9275f58929596ceb00d14d90e3e16cd6"
   }
  }
 },
 "nbformat": 4,
 "nbformat_minor": 2
}
