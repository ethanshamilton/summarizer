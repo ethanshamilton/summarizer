{
 "cells": [
  {
   "cell_type": "markdown",
   "metadata": {},
   "source": [
    "## Page Scraper\n",
    "The purpose of this code is to extract the content from selected webpages in the EK Knowledge Base. "
   ]
  },
  {
   "cell_type": "code",
   "execution_count": 2,
   "metadata": {},
   "outputs": [],
   "source": [
    "# import libraries\n",
    "import requests\n",
    "from bs4 import BeautifulSoup\n",
    "import time\n",
    "import json"
   ]
  },
  {
   "cell_type": "code",
   "execution_count": 3,
   "metadata": {},
   "outputs": [],
   "source": [
    "# specify the pages to be extracted\n",
    "urls = [\n",
    "    \"https://enterprise-knowledge.com/applied-knowledge-management-series-part-1-addressing-challenges-at-large-enterprises/\",\n",
    "    \"https://enterprise-knowledge.com/expert-analysis-keyword-search-vs-semantic-search-part-one/\",\n",
    "    \"https://enterprise-knowledge.com/how-does-km-impact-different-business-groups/\",\n",
    "    \"https://enterprise-knowledge.com/top-graph-use-cases-and-enterprise-applications-with-real-world-examples/\",\n",
    "    \"https://enterprise-knowledge.com/is-chatgpt-ready-for-the-enterprise/\",\n",
    "\n",
    "    \"https://enterprise-knowledge.com/breaking-it-down-what-is-gamification/\",\n",
    "    \"https://enterprise-knowledge.com/knowledge-management-trends-in-2023/\",\n",
    "    \"https://enterprise-knowledge.com/5-steps-to-enhance-search-with-a-knowledge-graph/\",\n",
    "    \"https://enterprise-knowledge.com/top-5-tips-for-managing-and-versioning-an-ontology/\",\n",
    "    \"https://enterprise-knowledge.com/data-catalog-evaluation-criteria/\",\n",
    "\n",
    "    \"https://enterprise-knowledge.com/elevating-your-point-solution-to-an-enterprise-knowledge-graph/\",\n",
    "    \"https://enterprise-knowledge.com/the-importance-of-agility-during-the-great-resignation-part-2-attracting-talent/\",\n",
    "    \"https://enterprise-knowledge.com/resolving-uniform-resource-identifiers-uris/\",\n",
    "    \"https://enterprise-knowledge.com/what-is-a-ccms-and-why-do-i-need-one/\",\n",
    "    \"https://enterprise-knowledge.com/what-team-do-you-need-for-successful-knowledge-graph-development/\",\n",
    "\n",
    "    \"https://enterprise-knowledge.com/tips-for-implementing-km-technology-solutions/\",\n",
    "    \"https://enterprise-knowledge.com/knowledge-capture-and-transfer-series-part-3-capturing-explicit-knowledge/\",\n",
    "    \"https://enterprise-knowledge.com/three-pillars-of-successful-data-catalog-adoption/\",\n",
    "    \"https://enterprise-knowledge.com/leveraging-headless-cms-for-technical-cross-functionality/\",\n",
    "    \"https://enterprise-knowledge.com/the-value-of-data-catalogs-for-data-scientists/\",\n",
    "]"
   ]
  },
  {
   "cell_type": "code",
   "execution_count": 5,
   "metadata": {},
   "outputs": [],
   "source": [
    "# function to extract text from a webpage\n",
    "def extract_text(url):\n",
    "    response = requests.get(url)\n",
    "    soup = BeautifulSoup(response.content, 'html.parser')\n",
    "    content = soup.find('div', {'class': 'entry-content'})\n",
    "    return content.text"
   ]
  },
  {
   "cell_type": "code",
   "execution_count": 6,
   "metadata": {},
   "outputs": [],
   "source": [
    "# get content from all URLs\n",
    "knowledge_base = {}\n",
    "for url in urls:\n",
    "    text = extract_text(url)\n",
    "    knowledge_base[url] = text\n",
    "    time.sleep(1)"
   ]
  },
  {
   "cell_type": "code",
   "execution_count": 9,
   "metadata": {},
   "outputs": [],
   "source": [
    "# save extracted content as a JSON file\n",
    "with open('25_EK_articles.json', 'w') as f:\n",
    "    json.dump(knowledge_base, f, sort_keys=True, indent=4)"
   ]
  }
 ],
 "metadata": {
  "kernelspec": {
   "display_name": "Python 3.9.6 64-bit",
   "language": "python",
   "name": "python3"
  },
  "language_info": {
   "codemirror_mode": {
    "name": "ipython",
    "version": 3
   },
   "file_extension": ".py",
   "mimetype": "text/x-python",
   "name": "python",
   "nbconvert_exporter": "python",
   "pygments_lexer": "ipython3",
   "version": "3.9.6"
  },
  "orig_nbformat": 4,
  "vscode": {
   "interpreter": {
    "hash": "31f2aee4e71d21fbe5cf8b01ff0e069b9275f58929596ceb00d14d90e3e16cd6"
   }
  }
 },
 "nbformat": 4,
 "nbformat_minor": 2
}
