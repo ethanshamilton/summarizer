{
 "cells": [
  {
   "cell_type": "markdown",
   "metadata": {},
   "source": [
    "### Summarizer\n",
    "The purpose of this code is to interact with a co:here summarizer model via API. \n",
    "\n",
    "For my experiment on 4/1/2023, the summarizer will process 20 examples from the EK knowledge base and create summaries for each. "
   ]
  },
  {
   "cell_type": "code",
   "execution_count": null,
   "metadata": {},
   "outputs": [],
   "source": [
    "# import libraries\n",
    "import os\n",
    "from dotenv import load_dotenv \n",
    "import pandas as pd\n",
    "import cohere \n",
    "import json\n",
    "import openai"
   ]
  },
  {
   "cell_type": "code",
   "execution_count": 2,
   "metadata": {},
   "outputs": [],
   "source": [
    "knowledge_base = '20_EK_articles.json'\n",
    "with open('20_EK_articles.json', 'r') as f:\n",
    "    data = json.load(f)\n",
    "\n",
    "df = pd.DataFrame(data.items(), columns=['url', 'text'])"
   ]
  },
  {
   "cell_type": "code",
   "execution_count": 16,
   "metadata": {},
   "outputs": [
    {
     "data": {
      "text/plain": [
       "<bound method NDFrame.head of                                                   url  \\\n",
       "0   https://enterprise-knowledge.com/5-steps-to-en...   \n",
       "1   https://enterprise-knowledge.com/applied-knowl...   \n",
       "2   https://enterprise-knowledge.com/breaking-it-d...   \n",
       "3   https://enterprise-knowledge.com/data-catalog-...   \n",
       "4   https://enterprise-knowledge.com/elevating-you...   \n",
       "5   https://enterprise-knowledge.com/expert-analys...   \n",
       "6   https://enterprise-knowledge.com/how-does-km-i...   \n",
       "7   https://enterprise-knowledge.com/is-chatgpt-re...   \n",
       "8   https://enterprise-knowledge.com/knowledge-cap...   \n",
       "9   https://enterprise-knowledge.com/knowledge-man...   \n",
       "10  https://enterprise-knowledge.com/leveraging-he...   \n",
       "11  https://enterprise-knowledge.com/resolving-uni...   \n",
       "12  https://enterprise-knowledge.com/the-importanc...   \n",
       "13  https://enterprise-knowledge.com/the-value-of-...   \n",
       "14  https://enterprise-knowledge.com/three-pillars...   \n",
       "15  https://enterprise-knowledge.com/tips-for-impl...   \n",
       "16  https://enterprise-knowledge.com/top-5-tips-fo...   \n",
       "17  https://enterprise-knowledge.com/top-graph-use...   \n",
       "18  https://enterprise-knowledge.com/what-is-a-ccm...   \n",
       "19  https://enterprise-knowledge.com/what-team-do-...   \n",
       "\n",
       "                                                 text  \n",
       "0   \\nAs search engines and portals evolve, users ...  \n",
       "1   \\nWhile Knowledge Management (KM) is critical ...  \n",
       "2   \\nWhen I talk about gamification, I often use ...  \n",
       "3   \\nData Catalogs have risen in adoption and pop...  \n",
       "4   \\nI am fortunate to be able to speak with many...  \n",
       "5   \\nFor a long time, keyword search was the pred...  \n",
       "6   \\nOne of the most engaging aspects of my work ...  \n",
       "7   \\nRecently, we were visiting a client showing ...  \n",
       "8   \\nEven though explicit knowledge refers to kno...  \n",
       "9   \\n\\nAs CEO of the world’s largest Knowledge Ma...  \n",
       "10  \\nHeadless CMS (Content Management System) arc...  \n",
       "11  \\n\\nOrganizations that are getting started wit...  \n",
       "12  \\nIntroduction\\nIn Part I we discussed how to ...  \n",
       "13  \\nIntroduction\\nAfter the Harvard Business Rev...  \n",
       "14  \\nData catalogs function as a central library ...  \n",
       "15  \\nIn the digital age that we now live in, maki...  \n",
       "16  \\nSometimes, clients who come to EK confident ...  \n",
       "17  \\nGraph solutions have gained momentum due to ...  \n",
       "18  \\nIf you work on a content or technology team,...  \n",
       "19  \\nMany organizations look to take advantage of...  >"
      ]
     },
     "execution_count": 16,
     "metadata": {},
     "output_type": "execute_result"
    }
   ],
   "source": [
    "df.head"
   ]
  },
  {
   "cell_type": "code",
   "execution_count": 3,
   "metadata": {},
   "outputs": [],
   "source": [
    "load_dotenv()\n",
    "openai_api_key = os.environ.get(\"OPENAI_API_KEY\")\n",
    "# openai.Model.list()"
   ]
  },
  {
   "cell_type": "code",
   "execution_count": 4,
   "metadata": {},
   "outputs": [],
   "source": [
    "# generate completions\n",
    "responses = pd.Series(index=df.index, dtype='object') # init empty series for responses\n",
    "for i, j in df.iterrows():\n",
    "    text = j['text'] # set value from input DataFrame\n",
    "    try:\n",
    "        response = openai.ChatCompletion.create(\n",
    "            model=\"gpt-3.5-turbo\",\n",
    "            messages=[\n",
    "                {\"role\": \"system\", \"content\": \"Your task is to read the provided article and summarize it into a short, catchy abstract that will attract the attention of executives at large enterprise organizations.\"},\n",
    "                {\"role\": \"user\", \"content\": text}\n",
    "            ],\n",
    "            max_tokens=250,\n",
    "            temperature=0.1,\n",
    "        )\n",
    "        # print('Summary:', response.summary)\n",
    "        responses.at[i] = response.choices[0].message['content']\n",
    "    except openai.InvalidRequestError:\n",
    "        pass"
   ]
  },
  {
   "cell_type": "code",
   "execution_count": 18,
   "metadata": {},
   "outputs": [],
   "source": [
    "# save completions to a JSON file\n",
    "responses.to_json('completions.json', orient='index')"
   ]
  }
 ],
 "metadata": {
  "kernelspec": {
   "display_name": "Python 3.9.6 64-bit",
   "language": "python",
   "name": "python3"
  },
  "language_info": {
   "codemirror_mode": {
    "name": "ipython",
    "version": 3
   },
   "file_extension": ".py",
   "mimetype": "text/x-python",
   "name": "python",
   "nbconvert_exporter": "python",
   "pygments_lexer": "ipython3",
   "version": "3.9.6"
  },
  "orig_nbformat": 4,
  "vscode": {
   "interpreter": {
    "hash": "31f2aee4e71d21fbe5cf8b01ff0e069b9275f58929596ceb00d14d90e3e16cd6"
   }
  }
 },
 "nbformat": 4,
 "nbformat_minor": 2
}
